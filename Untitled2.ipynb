{
 "cells": [
  {
   "cell_type": "code",
   "execution_count": null,
   "id": "75e20dd1-c3e2-4b59-9db7-dcf250952d52",
   "metadata": {},
   "outputs": [],
   "source": [
    "# Calisnova Chatbot - Basic Example\n",
    "\n",
    "# Define a dictionary for basic responses\n",
    "responses = {\n",
    "    \"hello\": \"Hi! Welcome to Calisnova. How can I help you today?\",\n",
    "    \"services\": \"Calisnova offers various services including leadership training, emotional intelligence workshops, digital literacy programs, and more.\",\n",
    "    \"curriculum\": \"Our curriculum focuses on critical thinking, innovation, public speaking, and personal development for students.\",\n",
    "    \"contact\": \"You can reach us at contact@calisnova.com or call us at +123456789.\",\n",
    "    \"location\": \"Calisnova is located at Ramdeobaba University, Nagpur, India.\",\n",
    "    \"bye\": \"Goodbye! Have a great day!\",\n",
    "}\n",
    "\n",
    "def chatbot_response(user_input):\n",
    "    \"\"\"Generate the chatbot response based on user input.\"\"\"\n",
    "    # Convert user input to lowercase for better matching\n",
    "    user_input = user_input.lower()\n",
    "\n",
    "    # Check if the input exists in the predefined responses\n",
    "    response = responses.get(user_input, \"I'm sorry, I didn't understand that. Can you please rephrase?\")\n",
    "    \n",
    "    return response\n",
    "\n",
    "# Main loop to interact with the chatbot\n",
    "def start_chat():\n",
    "    print(\"Welcome to the Calisnova Chatbot!\")\n",
    "    print(\"Type 'bye' to exit the chat.\")\n",
    "    \n",
    "    while True:\n",
    "        user_input = input(\"You: \")\n",
    "        \n",
    "        # Exit if the user says 'bye'\n",
    "        if user_input.lower() == \"bye\":\n",
    "            print(\"Calisnova Chatbot: Goodbye! Have a great day!\")\n",
    "            break\n",
    "        \n",
    "        # Get the chatbot's response\n",
    "        response = chatbot_response(user_input)\n",
    "        \n",
    "        # Print the response\n",
    "        print(f\"Calisnova Chatbot: {response}\")\n",
    "\n",
    "# Start the chatbot\n",
    "start_chat()\n"
   ]
  },
  {
   "cell_type": "code",
   "execution_count": null,
   "id": "26a7085b-0a85-4aa0-91b4-e9e34154a883",
   "metadata": {},
   "outputs": [],
   "source": []
  },
  {
   "cell_type": "code",
   "execution_count": null,
   "id": "7c24ed7a-d91c-4520-97b1-ae606dcc644c",
   "metadata": {},
   "outputs": [],
   "source": []
  }
 ],
 "metadata": {
  "kernelspec": {
   "display_name": "Python 3 (ipykernel)",
   "language": "python",
   "name": "python3"
  },
  "language_info": {
   "codemirror_mode": {
    "name": "ipython",
    "version": 3
   },
   "file_extension": ".py",
   "mimetype": "text/x-python",
   "name": "python",
   "nbconvert_exporter": "python",
   "pygments_lexer": "ipython3",
   "version": "3.12.7"
  }
 },
 "nbformat": 4,
 "nbformat_minor": 5
}
